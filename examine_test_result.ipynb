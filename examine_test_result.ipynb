{
 "cells": [
  {
   "cell_type": "code",
   "execution_count": 1,
   "metadata": {
    "collapsed": true
   },
   "outputs": [],
   "source": [
    "import pandas as pd"
   ]
  },
  {
   "cell_type": "code",
   "execution_count": 2,
   "outputs": [],
   "source": [
    "df = pd.read_csv('df.csv')"
   ],
   "metadata": {
    "collapsed": false,
    "pycharm": {
     "name": "#%%\n"
    }
   }
  },
  {
   "cell_type": "code",
   "execution_count": 3,
   "outputs": [],
   "source": [
    "bin_labels = ['0~0.1', '0.1~0.2', '0.2~0.3', '0.3~0.4', '0.4~0.5', '0.5~0.6', '0.6~0.7', '0.7~0.8', '0.8~0.9',\n",
    "              '0.9~1.0', '1.0~2.0']\n",
    "df['entRange'], bin_values = pd.cut(x=df['ent'], bins=[0, 0.1, 0.2, 0.3, 0.4, 0.5, 0.6, 0.7, 0.8, 0.9, 1.0, 2.0],\n",
    "                                     labels=bin_labels, retbins=True)"
   ],
   "metadata": {
    "collapsed": false,
    "pycharm": {
     "name": "#%%\n"
    }
   }
  },
  {
   "cell_type": "code",
   "execution_count": 4,
   "outputs": [],
   "source": [
    "correct = df[df.targets == df.preds]\n",
    "wrong = df[df.targets != df.preds]"
   ],
   "metadata": {
    "collapsed": false,
    "pycharm": {
     "name": "#%%\n"
    }
   }
  },
  {
   "cell_type": "code",
   "execution_count": 5,
   "outputs": [
    {
     "data": {
      "text/plain": "         cls_0     cls_1     cls_2     cls_3       ent  max_probs  targets  \\\n8     0.000039  0.000464  0.640314  0.359184  0.657177   0.640314        2   \n29    0.000037  0.628815  0.371108  0.000039  0.660358   0.628815        1   \n56    0.000107  0.027180  0.646407  0.326306  0.746448   0.646407        3   \n64    0.000050  0.454165  0.545691  0.000094  0.690364   0.545691        2   \n75    0.000061  0.003717  0.380239  0.615984  0.687525   0.615984        3   \n79    0.000278  0.012580  0.362996  0.624146  0.719372   0.624146        2   \n96    0.000062  0.000077  0.585020  0.414841  0.679966   0.585020        3   \n101   0.000021  0.524250  0.475474  0.000254  0.694373   0.524250        1   \n123   0.000022  0.611346  0.388595  0.000036  0.668753   0.611346        2   \n166   0.000027  0.000155  0.412928  0.586890  0.679634   0.586890        3   \n208   0.001938  0.021664  0.537848  0.438550  0.790175   0.537848        3   \n267   0.000136  0.531096  0.468691  0.000077  0.693201   0.531096        1   \n283   0.000025  0.457043  0.542753  0.000179  0.691340   0.542753        2   \n408   0.000018  0.000195  0.499893  0.499893  0.695077   0.499893        2   \n514   0.000029  0.601067  0.398836  0.000068  0.673537   0.601067        2   \n516   0.000033  0.505811  0.494094  0.000062  0.694047   0.505811        2   \n551   0.001448  0.333438  0.632754  0.032360  0.776297   0.632754        2   \n590   0.000619  0.213217  0.334783  0.451381  1.059481   0.451381        2   \n617   0.000064  0.000513  0.482638  0.516785  0.697245   0.516785        3   \n655   0.000020  0.605724  0.394152  0.000104  0.671796   0.605724        1   \n662   0.000120  0.000103  0.466255  0.533521  0.692983   0.533521        3   \n791   0.000187  0.466700  0.532988  0.000126  0.693779   0.532988        2   \n793   0.000020  0.488251  0.511683  0.000046  0.693563   0.511683        2   \n834   0.000028  0.000144  0.498449  0.501379  0.694762   0.501379        2   \n841   0.000031  0.000172  0.625997  0.373800  0.662864   0.625997        3   \n843   0.000071  0.000073  0.595877  0.403979  0.676030   0.595877        2   \n848   0.000019  0.498979  0.500932  0.000070  0.694056   0.500932        2   \n874   0.000040  0.000215  0.353004  0.646742  0.651648   0.646742        2   \n890   0.000047  0.000325  0.571076  0.428552  0.686147   0.571076        2   \n905   0.000026  0.000146  0.606161  0.393667  0.672011   0.606161        3   \n908   0.000019  0.420517  0.579286  0.000177  0.682289   0.579286        2   \n942   0.000037  0.000067  0.360677  0.639219  0.654884   0.639219        2   \n1017  0.000024  0.000128  0.451258  0.548590  0.689850   0.548590        2   \n1027  0.000048  0.000091  0.425307  0.574553  0.683338   0.574553        2   \n1042  0.000025  0.469723  0.530191  0.000062  0.692206   0.530191        2   \n1046  0.000065  0.000102  0.522846  0.476987  0.693708   0.522846        2   \n1168  0.000349  0.049865  0.319029  0.630757  0.807451   0.630757        2   \n1170  0.000039  0.574575  0.425323  0.000064  0.683005   0.574575        2   \n1171  0.000980  0.476968  0.521804  0.000248  0.701364   0.521804        1   \n1248  0.000022  0.365605  0.634182  0.000191  0.658564   0.634182        2   \n1266  0.000016  0.582229  0.417729  0.000027  0.680028   0.582229        1   \n1286  0.000012  0.410094  0.589731  0.000163  0.678532   0.589731        1   \n1349  0.000122  0.001718  0.433662  0.564498  0.697147   0.564498        3   \n1354  0.000087  0.000208  0.563932  0.435773  0.687575   0.563932        2   \n1373  0.000044  0.492432  0.506083  0.001441  0.703379   0.506083        2   \n1374  0.004122  0.001467  0.401545  0.592866  0.708530   0.592866        2   \n1376  0.000312  0.528067  0.471510  0.000111  0.695205   0.528067        1   \n1383  0.000032  0.000128  0.506266  0.493573  0.694599   0.506266        3   \n1426  0.000039  0.000297  0.570618  0.429046  0.685999   0.570618        2   \n\n      preds entRange  \n8         2  0.6~0.7  \n29        1  0.6~0.7  \n56        2  0.7~0.8  \n64        2  0.6~0.7  \n75        3  0.6~0.7  \n79        3  0.7~0.8  \n96        2  0.6~0.7  \n101       1  0.6~0.7  \n123       1  0.6~0.7  \n166       3  0.6~0.7  \n208       2  0.7~0.8  \n267       1  0.6~0.7  \n283       2  0.6~0.7  \n408       2  0.6~0.7  \n514       1  0.6~0.7  \n516       1  0.6~0.7  \n551       2  0.7~0.8  \n590       3  1.0~2.0  \n617       3  0.6~0.7  \n655       1  0.6~0.7  \n662       3  0.6~0.7  \n791       2  0.6~0.7  \n793       2  0.6~0.7  \n834       3  0.6~0.7  \n841       2  0.6~0.7  \n843       2  0.6~0.7  \n848       2  0.6~0.7  \n874       3  0.6~0.7  \n890       2  0.6~0.7  \n905       2  0.6~0.7  \n908       2  0.6~0.7  \n942       3  0.6~0.7  \n1017      3  0.6~0.7  \n1027      3  0.6~0.7  \n1042      2  0.6~0.7  \n1046      2  0.6~0.7  \n1168      3  0.8~0.9  \n1170      1  0.6~0.7  \n1171      2  0.7~0.8  \n1248      2  0.6~0.7  \n1266      1  0.6~0.7  \n1286      2  0.6~0.7  \n1349      3  0.6~0.7  \n1354      2  0.6~0.7  \n1373      2  0.7~0.8  \n1374      3  0.7~0.8  \n1376      1  0.6~0.7  \n1383      2  0.6~0.7  \n1426      2  0.6~0.7  ",
      "text/html": "<div>\n<style scoped>\n    .dataframe tbody tr th:only-of-type {\n        vertical-align: middle;\n    }\n\n    .dataframe tbody tr th {\n        vertical-align: top;\n    }\n\n    .dataframe thead th {\n        text-align: right;\n    }\n</style>\n<table border=\"1\" class=\"dataframe\">\n  <thead>\n    <tr style=\"text-align: right;\">\n      <th></th>\n      <th>cls_0</th>\n      <th>cls_1</th>\n      <th>cls_2</th>\n      <th>cls_3</th>\n      <th>ent</th>\n      <th>max_probs</th>\n      <th>targets</th>\n      <th>preds</th>\n      <th>entRange</th>\n    </tr>\n  </thead>\n  <tbody>\n    <tr>\n      <th>8</th>\n      <td>0.000039</td>\n      <td>0.000464</td>\n      <td>0.640314</td>\n      <td>0.359184</td>\n      <td>0.657177</td>\n      <td>0.640314</td>\n      <td>2</td>\n      <td>2</td>\n      <td>0.6~0.7</td>\n    </tr>\n    <tr>\n      <th>29</th>\n      <td>0.000037</td>\n      <td>0.628815</td>\n      <td>0.371108</td>\n      <td>0.000039</td>\n      <td>0.660358</td>\n      <td>0.628815</td>\n      <td>1</td>\n      <td>1</td>\n      <td>0.6~0.7</td>\n    </tr>\n    <tr>\n      <th>56</th>\n      <td>0.000107</td>\n      <td>0.027180</td>\n      <td>0.646407</td>\n      <td>0.326306</td>\n      <td>0.746448</td>\n      <td>0.646407</td>\n      <td>3</td>\n      <td>2</td>\n      <td>0.7~0.8</td>\n    </tr>\n    <tr>\n      <th>64</th>\n      <td>0.000050</td>\n      <td>0.454165</td>\n      <td>0.545691</td>\n      <td>0.000094</td>\n      <td>0.690364</td>\n      <td>0.545691</td>\n      <td>2</td>\n      <td>2</td>\n      <td>0.6~0.7</td>\n    </tr>\n    <tr>\n      <th>75</th>\n      <td>0.000061</td>\n      <td>0.003717</td>\n      <td>0.380239</td>\n      <td>0.615984</td>\n      <td>0.687525</td>\n      <td>0.615984</td>\n      <td>3</td>\n      <td>3</td>\n      <td>0.6~0.7</td>\n    </tr>\n    <tr>\n      <th>79</th>\n      <td>0.000278</td>\n      <td>0.012580</td>\n      <td>0.362996</td>\n      <td>0.624146</td>\n      <td>0.719372</td>\n      <td>0.624146</td>\n      <td>2</td>\n      <td>3</td>\n      <td>0.7~0.8</td>\n    </tr>\n    <tr>\n      <th>96</th>\n      <td>0.000062</td>\n      <td>0.000077</td>\n      <td>0.585020</td>\n      <td>0.414841</td>\n      <td>0.679966</td>\n      <td>0.585020</td>\n      <td>3</td>\n      <td>2</td>\n      <td>0.6~0.7</td>\n    </tr>\n    <tr>\n      <th>101</th>\n      <td>0.000021</td>\n      <td>0.524250</td>\n      <td>0.475474</td>\n      <td>0.000254</td>\n      <td>0.694373</td>\n      <td>0.524250</td>\n      <td>1</td>\n      <td>1</td>\n      <td>0.6~0.7</td>\n    </tr>\n    <tr>\n      <th>123</th>\n      <td>0.000022</td>\n      <td>0.611346</td>\n      <td>0.388595</td>\n      <td>0.000036</td>\n      <td>0.668753</td>\n      <td>0.611346</td>\n      <td>2</td>\n      <td>1</td>\n      <td>0.6~0.7</td>\n    </tr>\n    <tr>\n      <th>166</th>\n      <td>0.000027</td>\n      <td>0.000155</td>\n      <td>0.412928</td>\n      <td>0.586890</td>\n      <td>0.679634</td>\n      <td>0.586890</td>\n      <td>3</td>\n      <td>3</td>\n      <td>0.6~0.7</td>\n    </tr>\n    <tr>\n      <th>208</th>\n      <td>0.001938</td>\n      <td>0.021664</td>\n      <td>0.537848</td>\n      <td>0.438550</td>\n      <td>0.790175</td>\n      <td>0.537848</td>\n      <td>3</td>\n      <td>2</td>\n      <td>0.7~0.8</td>\n    </tr>\n    <tr>\n      <th>267</th>\n      <td>0.000136</td>\n      <td>0.531096</td>\n      <td>0.468691</td>\n      <td>0.000077</td>\n      <td>0.693201</td>\n      <td>0.531096</td>\n      <td>1</td>\n      <td>1</td>\n      <td>0.6~0.7</td>\n    </tr>\n    <tr>\n      <th>283</th>\n      <td>0.000025</td>\n      <td>0.457043</td>\n      <td>0.542753</td>\n      <td>0.000179</td>\n      <td>0.691340</td>\n      <td>0.542753</td>\n      <td>2</td>\n      <td>2</td>\n      <td>0.6~0.7</td>\n    </tr>\n    <tr>\n      <th>408</th>\n      <td>0.000018</td>\n      <td>0.000195</td>\n      <td>0.499893</td>\n      <td>0.499893</td>\n      <td>0.695077</td>\n      <td>0.499893</td>\n      <td>2</td>\n      <td>2</td>\n      <td>0.6~0.7</td>\n    </tr>\n    <tr>\n      <th>514</th>\n      <td>0.000029</td>\n      <td>0.601067</td>\n      <td>0.398836</td>\n      <td>0.000068</td>\n      <td>0.673537</td>\n      <td>0.601067</td>\n      <td>2</td>\n      <td>1</td>\n      <td>0.6~0.7</td>\n    </tr>\n    <tr>\n      <th>516</th>\n      <td>0.000033</td>\n      <td>0.505811</td>\n      <td>0.494094</td>\n      <td>0.000062</td>\n      <td>0.694047</td>\n      <td>0.505811</td>\n      <td>2</td>\n      <td>1</td>\n      <td>0.6~0.7</td>\n    </tr>\n    <tr>\n      <th>551</th>\n      <td>0.001448</td>\n      <td>0.333438</td>\n      <td>0.632754</td>\n      <td>0.032360</td>\n      <td>0.776297</td>\n      <td>0.632754</td>\n      <td>2</td>\n      <td>2</td>\n      <td>0.7~0.8</td>\n    </tr>\n    <tr>\n      <th>590</th>\n      <td>0.000619</td>\n      <td>0.213217</td>\n      <td>0.334783</td>\n      <td>0.451381</td>\n      <td>1.059481</td>\n      <td>0.451381</td>\n      <td>2</td>\n      <td>3</td>\n      <td>1.0~2.0</td>\n    </tr>\n    <tr>\n      <th>617</th>\n      <td>0.000064</td>\n      <td>0.000513</td>\n      <td>0.482638</td>\n      <td>0.516785</td>\n      <td>0.697245</td>\n      <td>0.516785</td>\n      <td>3</td>\n      <td>3</td>\n      <td>0.6~0.7</td>\n    </tr>\n    <tr>\n      <th>655</th>\n      <td>0.000020</td>\n      <td>0.605724</td>\n      <td>0.394152</td>\n      <td>0.000104</td>\n      <td>0.671796</td>\n      <td>0.605724</td>\n      <td>1</td>\n      <td>1</td>\n      <td>0.6~0.7</td>\n    </tr>\n    <tr>\n      <th>662</th>\n      <td>0.000120</td>\n      <td>0.000103</td>\n      <td>0.466255</td>\n      <td>0.533521</td>\n      <td>0.692983</td>\n      <td>0.533521</td>\n      <td>3</td>\n      <td>3</td>\n      <td>0.6~0.7</td>\n    </tr>\n    <tr>\n      <th>791</th>\n      <td>0.000187</td>\n      <td>0.466700</td>\n      <td>0.532988</td>\n      <td>0.000126</td>\n      <td>0.693779</td>\n      <td>0.532988</td>\n      <td>2</td>\n      <td>2</td>\n      <td>0.6~0.7</td>\n    </tr>\n    <tr>\n      <th>793</th>\n      <td>0.000020</td>\n      <td>0.488251</td>\n      <td>0.511683</td>\n      <td>0.000046</td>\n      <td>0.693563</td>\n      <td>0.511683</td>\n      <td>2</td>\n      <td>2</td>\n      <td>0.6~0.7</td>\n    </tr>\n    <tr>\n      <th>834</th>\n      <td>0.000028</td>\n      <td>0.000144</td>\n      <td>0.498449</td>\n      <td>0.501379</td>\n      <td>0.694762</td>\n      <td>0.501379</td>\n      <td>2</td>\n      <td>3</td>\n      <td>0.6~0.7</td>\n    </tr>\n    <tr>\n      <th>841</th>\n      <td>0.000031</td>\n      <td>0.000172</td>\n      <td>0.625997</td>\n      <td>0.373800</td>\n      <td>0.662864</td>\n      <td>0.625997</td>\n      <td>3</td>\n      <td>2</td>\n      <td>0.6~0.7</td>\n    </tr>\n    <tr>\n      <th>843</th>\n      <td>0.000071</td>\n      <td>0.000073</td>\n      <td>0.595877</td>\n      <td>0.403979</td>\n      <td>0.676030</td>\n      <td>0.595877</td>\n      <td>2</td>\n      <td>2</td>\n      <td>0.6~0.7</td>\n    </tr>\n    <tr>\n      <th>848</th>\n      <td>0.000019</td>\n      <td>0.498979</td>\n      <td>0.500932</td>\n      <td>0.000070</td>\n      <td>0.694056</td>\n      <td>0.500932</td>\n      <td>2</td>\n      <td>2</td>\n      <td>0.6~0.7</td>\n    </tr>\n    <tr>\n      <th>874</th>\n      <td>0.000040</td>\n      <td>0.000215</td>\n      <td>0.353004</td>\n      <td>0.646742</td>\n      <td>0.651648</td>\n      <td>0.646742</td>\n      <td>2</td>\n      <td>3</td>\n      <td>0.6~0.7</td>\n    </tr>\n    <tr>\n      <th>890</th>\n      <td>0.000047</td>\n      <td>0.000325</td>\n      <td>0.571076</td>\n      <td>0.428552</td>\n      <td>0.686147</td>\n      <td>0.571076</td>\n      <td>2</td>\n      <td>2</td>\n      <td>0.6~0.7</td>\n    </tr>\n    <tr>\n      <th>905</th>\n      <td>0.000026</td>\n      <td>0.000146</td>\n      <td>0.606161</td>\n      <td>0.393667</td>\n      <td>0.672011</td>\n      <td>0.606161</td>\n      <td>3</td>\n      <td>2</td>\n      <td>0.6~0.7</td>\n    </tr>\n    <tr>\n      <th>908</th>\n      <td>0.000019</td>\n      <td>0.420517</td>\n      <td>0.579286</td>\n      <td>0.000177</td>\n      <td>0.682289</td>\n      <td>0.579286</td>\n      <td>2</td>\n      <td>2</td>\n      <td>0.6~0.7</td>\n    </tr>\n    <tr>\n      <th>942</th>\n      <td>0.000037</td>\n      <td>0.000067</td>\n      <td>0.360677</td>\n      <td>0.639219</td>\n      <td>0.654884</td>\n      <td>0.639219</td>\n      <td>2</td>\n      <td>3</td>\n      <td>0.6~0.7</td>\n    </tr>\n    <tr>\n      <th>1017</th>\n      <td>0.000024</td>\n      <td>0.000128</td>\n      <td>0.451258</td>\n      <td>0.548590</td>\n      <td>0.689850</td>\n      <td>0.548590</td>\n      <td>2</td>\n      <td>3</td>\n      <td>0.6~0.7</td>\n    </tr>\n    <tr>\n      <th>1027</th>\n      <td>0.000048</td>\n      <td>0.000091</td>\n      <td>0.425307</td>\n      <td>0.574553</td>\n      <td>0.683338</td>\n      <td>0.574553</td>\n      <td>2</td>\n      <td>3</td>\n      <td>0.6~0.7</td>\n    </tr>\n    <tr>\n      <th>1042</th>\n      <td>0.000025</td>\n      <td>0.469723</td>\n      <td>0.530191</td>\n      <td>0.000062</td>\n      <td>0.692206</td>\n      <td>0.530191</td>\n      <td>2</td>\n      <td>2</td>\n      <td>0.6~0.7</td>\n    </tr>\n    <tr>\n      <th>1046</th>\n      <td>0.000065</td>\n      <td>0.000102</td>\n      <td>0.522846</td>\n      <td>0.476987</td>\n      <td>0.693708</td>\n      <td>0.522846</td>\n      <td>2</td>\n      <td>2</td>\n      <td>0.6~0.7</td>\n    </tr>\n    <tr>\n      <th>1168</th>\n      <td>0.000349</td>\n      <td>0.049865</td>\n      <td>0.319029</td>\n      <td>0.630757</td>\n      <td>0.807451</td>\n      <td>0.630757</td>\n      <td>2</td>\n      <td>3</td>\n      <td>0.8~0.9</td>\n    </tr>\n    <tr>\n      <th>1170</th>\n      <td>0.000039</td>\n      <td>0.574575</td>\n      <td>0.425323</td>\n      <td>0.000064</td>\n      <td>0.683005</td>\n      <td>0.574575</td>\n      <td>2</td>\n      <td>1</td>\n      <td>0.6~0.7</td>\n    </tr>\n    <tr>\n      <th>1171</th>\n      <td>0.000980</td>\n      <td>0.476968</td>\n      <td>0.521804</td>\n      <td>0.000248</td>\n      <td>0.701364</td>\n      <td>0.521804</td>\n      <td>1</td>\n      <td>2</td>\n      <td>0.7~0.8</td>\n    </tr>\n    <tr>\n      <th>1248</th>\n      <td>0.000022</td>\n      <td>0.365605</td>\n      <td>0.634182</td>\n      <td>0.000191</td>\n      <td>0.658564</td>\n      <td>0.634182</td>\n      <td>2</td>\n      <td>2</td>\n      <td>0.6~0.7</td>\n    </tr>\n    <tr>\n      <th>1266</th>\n      <td>0.000016</td>\n      <td>0.582229</td>\n      <td>0.417729</td>\n      <td>0.000027</td>\n      <td>0.680028</td>\n      <td>0.582229</td>\n      <td>1</td>\n      <td>1</td>\n      <td>0.6~0.7</td>\n    </tr>\n    <tr>\n      <th>1286</th>\n      <td>0.000012</td>\n      <td>0.410094</td>\n      <td>0.589731</td>\n      <td>0.000163</td>\n      <td>0.678532</td>\n      <td>0.589731</td>\n      <td>1</td>\n      <td>2</td>\n      <td>0.6~0.7</td>\n    </tr>\n    <tr>\n      <th>1349</th>\n      <td>0.000122</td>\n      <td>0.001718</td>\n      <td>0.433662</td>\n      <td>0.564498</td>\n      <td>0.697147</td>\n      <td>0.564498</td>\n      <td>3</td>\n      <td>3</td>\n      <td>0.6~0.7</td>\n    </tr>\n    <tr>\n      <th>1354</th>\n      <td>0.000087</td>\n      <td>0.000208</td>\n      <td>0.563932</td>\n      <td>0.435773</td>\n      <td>0.687575</td>\n      <td>0.563932</td>\n      <td>2</td>\n      <td>2</td>\n      <td>0.6~0.7</td>\n    </tr>\n    <tr>\n      <th>1373</th>\n      <td>0.000044</td>\n      <td>0.492432</td>\n      <td>0.506083</td>\n      <td>0.001441</td>\n      <td>0.703379</td>\n      <td>0.506083</td>\n      <td>2</td>\n      <td>2</td>\n      <td>0.7~0.8</td>\n    </tr>\n    <tr>\n      <th>1374</th>\n      <td>0.004122</td>\n      <td>0.001467</td>\n      <td>0.401545</td>\n      <td>0.592866</td>\n      <td>0.708530</td>\n      <td>0.592866</td>\n      <td>2</td>\n      <td>3</td>\n      <td>0.7~0.8</td>\n    </tr>\n    <tr>\n      <th>1376</th>\n      <td>0.000312</td>\n      <td>0.528067</td>\n      <td>0.471510</td>\n      <td>0.000111</td>\n      <td>0.695205</td>\n      <td>0.528067</td>\n      <td>1</td>\n      <td>1</td>\n      <td>0.6~0.7</td>\n    </tr>\n    <tr>\n      <th>1383</th>\n      <td>0.000032</td>\n      <td>0.000128</td>\n      <td>0.506266</td>\n      <td>0.493573</td>\n      <td>0.694599</td>\n      <td>0.506266</td>\n      <td>3</td>\n      <td>2</td>\n      <td>0.6~0.7</td>\n    </tr>\n    <tr>\n      <th>1426</th>\n      <td>0.000039</td>\n      <td>0.000297</td>\n      <td>0.570618</td>\n      <td>0.429046</td>\n      <td>0.685999</td>\n      <td>0.570618</td>\n      <td>2</td>\n      <td>2</td>\n      <td>0.6~0.7</td>\n    </tr>\n  </tbody>\n</table>\n</div>"
     },
     "execution_count": 5,
     "metadata": {},
     "output_type": "execute_result"
    }
   ],
   "source": [
    "df[df.ent>0.65]"
   ],
   "metadata": {
    "collapsed": false,
    "pycharm": {
     "name": "#%%\n"
    }
   }
  },
  {
   "cell_type": "code",
   "execution_count": 6,
   "outputs": [
    {
     "data": {
      "text/plain": "0~0.1      1124\n0.1~0.2     119\n0.2~0.3      69\n0.3~0.4      55\n0.4~0.5      40\n0.5~0.6      42\n0.6~0.7      78\n0.7~0.8       7\n0.8~0.9       1\n0.9~1.0       0\n1.0~2.0       1\nName: entRange, dtype: int64"
     },
     "execution_count": 6,
     "metadata": {},
     "output_type": "execute_result"
    }
   ],
   "source": [
    "df.entRange.value_counts().sort_index()"
   ],
   "metadata": {
    "collapsed": false,
    "pycharm": {
     "name": "#%%\n"
    }
   }
  },
  {
   "cell_type": "code",
   "execution_count": 7,
   "outputs": [
    {
     "data": {
      "text/plain": "0~0.1      1072\n0.1~0.2      91\n0.2~0.3      55\n0.3~0.4      36\n0.4~0.5      25\n0.5~0.6      31\n0.6~0.7      51\n0.7~0.8       2\n0.8~0.9       0\n0.9~1.0       0\n1.0~2.0       0\nName: entRange, dtype: int64"
     },
     "execution_count": 7,
     "metadata": {},
     "output_type": "execute_result"
    }
   ],
   "source": [
    "correct.entRange.value_counts().sort_index()"
   ],
   "metadata": {
    "collapsed": false,
    "pycharm": {
     "name": "#%%\n"
    }
   }
  },
  {
   "cell_type": "code",
   "execution_count": 8,
   "outputs": [
    {
     "data": {
      "text/plain": "0~0.1      52\n0.1~0.2    28\n0.2~0.3    14\n0.3~0.4    19\n0.4~0.5    15\n0.5~0.6    11\n0.6~0.7    27\n0.7~0.8     5\n0.8~0.9     1\n0.9~1.0     0\n1.0~2.0     1\nName: entRange, dtype: int64"
     },
     "execution_count": 8,
     "metadata": {},
     "output_type": "execute_result"
    }
   ],
   "source": [
    "wrong.entRange.value_counts().sort_index()"
   ],
   "metadata": {
    "collapsed": false,
    "pycharm": {
     "name": "#%%\n"
    }
   }
  },
  {
   "cell_type": "code",
   "execution_count": 8,
   "outputs": [],
   "source": [],
   "metadata": {
    "collapsed": false,
    "pycharm": {
     "name": "#%%\n"
    }
   }
  },
  {
   "cell_type": "code",
   "execution_count": 8,
   "outputs": [],
   "source": [],
   "metadata": {
    "collapsed": false,
    "pycharm": {
     "name": "#%%\n"
    }
   }
  },
  {
   "cell_type": "code",
   "execution_count": 8,
   "outputs": [],
   "source": [],
   "metadata": {
    "collapsed": false,
    "pycharm": {
     "name": "#%%\n"
    }
   }
  },
  {
   "cell_type": "code",
   "execution_count": null,
   "outputs": [],
   "source": [],
   "metadata": {
    "collapsed": false,
    "pycharm": {
     "name": "#%%\n"
    }
   }
  }
 ],
 "metadata": {
  "kernelspec": {
   "name": "python3",
   "language": "python",
   "display_name": "Python 3 (ipykernel)"
  },
  "language_info": {
   "codemirror_mode": {
    "name": "ipython",
    "version": 2
   },
   "file_extension": ".py",
   "mimetype": "text/x-python",
   "name": "python",
   "nbconvert_exporter": "python",
   "pygments_lexer": "ipython2",
   "version": "2.7.6"
  }
 },
 "nbformat": 4,
 "nbformat_minor": 0
}